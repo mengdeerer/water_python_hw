{
 "cells": [
  {
   "cell_type": "code",
   "execution_count": 29,
   "metadata": {},
   "outputs": [
    {
     "name": "stdout",
     "output_type": "stream",
     "text": [
      "Total cycles found: 3\n",
      "Cycle: [1, 2, 3] Length: 3\n",
      "Cycle: [1, 2, 3, 4] Length: 4\n",
      "Cycle: [2, 3, 4] Length: 3\n"
     ]
    }
   ],
   "source": [
    "def find_cycles(edges):\n",
    "    # 构建邻接表\n",
    "    graph = {}\n",
    "    for u, v in edges:\n",
    "        if u not in graph:\n",
    "            graph[u] = []\n",
    "        if v not in graph:\n",
    "            graph[v] = []\n",
    "        graph[u].append(v)\n",
    "        graph[v].append(u)\n",
    "\n",
    "    # 记录访问过的节点和父节点\n",
    "    visited = set()\n",
    "    parent = {}\n",
    "\n",
    "    # 存储所有的环\n",
    "    cycles = []\n",
    "\n",
    "    def dfs(node, start, path):\n",
    "        visited.add(node)\n",
    "        path.append(node)\n",
    "\n",
    "        for neighbor in graph[node]:\n",
    "            if neighbor == start and len(path) > 2:\n",
    "                # 找到一个环\n",
    "                cycles.append(path[:])\n",
    "            elif neighbor not in visited:\n",
    "                parent[neighbor] = node\n",
    "                dfs(neighbor, start, path)\n",
    "\n",
    "        path.pop()\n",
    "        visited.remove(node)\n",
    "\n",
    "    # 在每个节点上进行DFS\n",
    "    for node in graph:\n",
    "        if node not in visited:\n",
    "            dfs(node, node, [])\n",
    "\n",
    "    # 去重环\n",
    "    unique_cycles = []\n",
    "    for cycle in cycles:\n",
    "        sorted_cycle = sorted(cycle)\n",
    "        if sorted_cycle not in unique_cycles:\n",
    "            unique_cycles.append(sorted_cycle)\n",
    "\n",
    "    return unique_cycles\n",
    "\n",
    "\n",
    "# 测试例子\n",
    "edges = [(1, 2), (1, 3),(3,1),(2,3),(2,4),(3,4)]\n",
    "cycles = find_cycles(edges)\n",
    "print(\"Total cycles found:\", len(cycles))\n",
    "for cycle in cycles:\n",
    "    print(\"Cycle:\", cycle, \"Length:\", len(cycle))"
   ]
  },
  {
   "cell_type": "code",
   "execution_count": 40,
   "metadata": {},
   "outputs": [
    {
     "name": "stdout",
     "output_type": "stream",
     "text": [
      "图中共有 3 个团。\n",
      "这些团分别是：\n",
      "[1, 2, 3]\n",
      "[1, 2, 4]\n",
      "[5, 199]\n"
     ]
    }
   ],
   "source": [
    "def is_clique(graph, nodes):\n",
    "    # Check if the given set of nodes forms a clique\n",
    "    for i in range(len(nodes)):\n",
    "        for j in range(i + 1, len(nodes)):\n",
    "            if nodes[j] not in graph[nodes[i]]:\n",
    "                return False\n",
    "    return True\n",
    "\n",
    "\n",
    "def generate_subsets(nodes):\n",
    "    # Generate all possible subsets of the given list of nodes\n",
    "    subsets = [[]]\n",
    "    for node in nodes:\n",
    "        new_subsets = []\n",
    "        for subset in subsets:\n",
    "            new_subset = subset + [node]\n",
    "            new_subsets.append(new_subset)\n",
    "        subsets.extend(new_subsets)\n",
    "    return subsets\n",
    "\n",
    "\n",
    "def find_cliques(graph):\n",
    "    # Find all cliques in the graph\n",
    "    nodes = list(graph.keys())\n",
    "    subsets = generate_subsets(nodes)\n",
    "    cliques = []\n",
    "\n",
    "    for subset in subsets:\n",
    "        if len(subset) > 1 and is_clique(graph, subset):\n",
    "            cliques.append(subset)\n",
    "\n",
    "    return cliques\n",
    "\n",
    "\n",
    "def filter_cliques(cliques):\n",
    "    # Filter out the cliques that are subsets of larger cliques\n",
    "    cliques = sorted(cliques, key=lambda x: len(x), reverse=True)\n",
    "    filtered_cliques = []\n",
    "    for i, clique in enumerate(cliques):\n",
    "        is_subset = False\n",
    "        for j in range(i):\n",
    "            if set(clique).issubset(set(cliques[j])):\n",
    "                is_subset = True\n",
    "                break\n",
    "        if not is_subset:\n",
    "            filtered_cliques.append(clique)\n",
    "    return filtered_cliques\n",
    "\n",
    "\n",
    "def main(edges):\n",
    "    # Construct the graph using an adjacency list\n",
    "    graph = {}\n",
    "    for u, v in edges:\n",
    "        if u not in graph:\n",
    "            graph[u] = set()\n",
    "        if v not in graph:\n",
    "            graph[v] = set()\n",
    "        graph[u].add(v)\n",
    "        graph[v].add(u)\n",
    "\n",
    "    # Find all cliques in the graph\n",
    "    cliques = find_cliques(graph)\n",
    "\n",
    "    # Filter cliques to remove those that are subsets of larger cliques\n",
    "    filtered_cliques = filter_cliques(cliques)\n",
    "\n",
    "    # Output the result\n",
    "    print(f\"图中共有 {len(filtered_cliques)} 个团。\")\n",
    "    print(\"这些团分别是：\")\n",
    "    for clique in filtered_cliques:\n",
    "        print(clique)\n",
    "\n",
    "\n",
    "# 给定的边列表\n",
    "edges = [(1, 2), (1, 3), (2, 3), (2, 4), (5, 199),(1,4)]\n",
    "\n",
    "main(edges)"
   ]
  },
  {
   "cell_type": "code",
   "execution_count": 39,
   "metadata": {},
   "outputs": [
    {
     "name": "stdout",
     "output_type": "stream",
     "text": [
      "图中共有 2 个团。\n",
      "这些团分别是：\n",
      "[1, 2, 3]\n",
      "[1, 2, 4]\n"
     ]
    }
   ],
   "source": [
    "import networkx as nx\n",
    "\n",
    "# 给定的边列表\n",
    "edges = [(1, 2), (2, 3), (3, 1), (4, 2),(4,1)]\n",
    "\n",
    "# 构建无向图\n",
    "G = nx.Graph()\n",
    "G.add_edges_from(edges)\n",
    "\n",
    "# 找到所有的团\n",
    "cliques = list(nx.find_cliques(G))\n",
    "\n",
    "# 输出结果\n",
    "print(f\"图中共有 {len(cliques)} 个团。\")\n",
    "print(\"这些团分别是：\")\n",
    "for clique in cliques:\n",
    "    print(clique)"
   ]
  },
  {
   "cell_type": "code",
   "execution_count": 41,
   "metadata": {},
   "outputs": [
    {
     "name": "stdout",
     "output_type": "stream",
     "text": [
      "[[1, 2, 3, 4], [5, 199]]\n"
     ]
    }
   ],
   "source": [
    "def DFS(vertex, graph, visited, component):\n",
    "    visited[vertex] = True\n",
    "    component.append(vertex)\n",
    "    for neighbor in graph[vertex]:\n",
    "        if not visited[neighbor]:\n",
    "            DFS(neighbor, graph, visited, component)\n",
    "\n",
    "\n",
    "def connectedComponents(edges):\n",
    "    graph = {}\n",
    "    for edge in edges:\n",
    "        a, b = edge\n",
    "        if a not in graph:\n",
    "            graph[a] = []\n",
    "        if b not in graph:\n",
    "            graph[b] = []\n",
    "        graph[a].append(b)\n",
    "        graph[b].append(a)\n",
    "\n",
    "    visited = {}\n",
    "    for vertex in graph:\n",
    "        visited[vertex] = False\n",
    "\n",
    "    components = []\n",
    "    for vertex in graph:\n",
    "        if not visited[vertex]:\n",
    "            component = []\n",
    "            DFS(vertex, graph, visited, component)\n",
    "            components.append(component)\n",
    "\n",
    "    return components\n",
    "\n",
    "\n",
    "edges = [(1, 2), (1, 3), (2, 3), (2, 4), (5, 199), (1, 4)]\n",
    "print(connectedComponents(edges))"
   ]
  },
  {
   "cell_type": "code",
   "execution_count": 42,
   "metadata": {},
   "outputs": [
    {
     "name": "stdout",
     "output_type": "stream",
     "text": [
      "[{1, 2, 3, 4}, {5, 199}]\n"
     ]
    }
   ],
   "source": [
    "import networkx as nx\n",
    "\n",
    "\n",
    "def connectedComponents(edges):\n",
    "    G = nx.Graph()\n",
    "    G.add_edges_from(edges)\n",
    "    return [c for c in nx.connected_components(G)]\n",
    "\n",
    "\n",
    "edges = [(1, 2), (1, 3), (2, 3), (2, 4), (5, 199), (1, 4)]\n",
    "print(connectedComponents(edges))"
   ]
  }
 ],
 "metadata": {
  "kernelspec": {
   "display_name": "venv",
   "language": "python",
   "name": "python3"
  },
  "language_info": {
   "codemirror_mode": {
    "name": "ipython",
    "version": 3
   },
   "file_extension": ".py",
   "mimetype": "text/x-python",
   "name": "python",
   "nbconvert_exporter": "python",
   "pygments_lexer": "ipython3",
   "version": "3.9.16"
  }
 },
 "nbformat": 4,
 "nbformat_minor": 2
}
